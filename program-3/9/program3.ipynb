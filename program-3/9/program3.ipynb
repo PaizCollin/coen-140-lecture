{
 "cells": [
  {
   "attachments": {},
   "cell_type": "markdown",
   "metadata": {},
   "source": [
    "## Initialize\n",
    "Import packages"
   ]
  },
  {
   "cell_type": "code",
   "execution_count": 49,
   "metadata": {},
   "outputs": [],
   "source": [
    "import numpy as np\n",
    "import matplotlib.pyplot as plt\n",
    "import pandas as pd\n",
    "import seaborn as sns\n",
    "from sklearn.preprocessing import StandardScaler\n",
    "from sklearn.cluster import KMeans, AgglomerativeClustering, DBSCAN\n",
    "from sklearn.decomposition import PCA, NMF\n",
    "from sklearn.preprocessing import Normalizer\n",
    "\n",
    "from keras.models import Model\n",
    "from keras.layers import Input, Dense"
   ]
  },
  {
   "attachments": {},
   "cell_type": "markdown",
   "metadata": {},
   "source": [
    "Read in train dataset"
   ]
  },
  {
   "cell_type": "code",
   "execution_count": 50,
   "metadata": {},
   "outputs": [],
   "source": [
    "train_data = pd.read_csv('train.dat', sep=',', header=None)"
   ]
  },
  {
   "cell_type": "code",
   "execution_count": 51,
   "metadata": {},
   "outputs": [],
   "source": [
    "X_train = train_data.iloc[:, :-1].values"
   ]
  },
  {
   "attachments": {},
   "cell_type": "markdown",
   "metadata": {},
   "source": [
    "## Proprocessing\n",
    "\n",
    "### Standardization\n",
    "\n",
    "Transform the data into standard normally distributed data"
   ]
  },
  {
   "cell_type": "code",
   "execution_count": 52,
   "metadata": {},
   "outputs": [],
   "source": [
    "scaler = StandardScaler()\n",
    "X_standard = scaler.fit_transform(X_train)"
   ]
  },
  {
   "attachments": {},
   "cell_type": "markdown",
   "metadata": {},
   "source": [
    "## Normalization\n",
    "\n",
    "Normalize the samples"
   ]
  },
  {
   "cell_type": "code",
   "execution_count": 53,
   "metadata": {},
   "outputs": [],
   "source": [
    "normalizer = Normalizer()\n",
    "X_normal = normalizer.fit_transform(X_standard)"
   ]
  },
  {
   "attachments": {},
   "cell_type": "markdown",
   "metadata": {},
   "source": [
    "### Feature Extraction\n",
    "\n",
    "Extract k features"
   ]
  },
  {
   "cell_type": "code",
   "execution_count": 54,
   "metadata": {},
   "outputs": [],
   "source": [
    "# pca = PCA(n_components=10)\n",
    "# X_pca = pca.fit_transform(X_normal)"
   ]
  },
  {
   "cell_type": "code",
   "execution_count": 55,
   "metadata": {},
   "outputs": [
    {
     "name": "stdout",
     "output_type": "stream",
     "text": [
      "Epoch 1/50\n",
      "36/36 [==============================] - 1s 6ms/step - loss: 27152.1777 - val_loss: 26974.8906\n",
      "Epoch 2/50\n",
      "36/36 [==============================] - 0s 3ms/step - loss: 27114.0059 - val_loss: 26955.2148\n",
      "Epoch 3/50\n",
      "36/36 [==============================] - 0s 3ms/step - loss: 27098.7852 - val_loss: 26943.2734\n",
      "Epoch 4/50\n",
      "36/36 [==============================] - 0s 3ms/step - loss: 27088.5195 - val_loss: 26934.6660\n",
      "Epoch 5/50\n",
      "36/36 [==============================] - 0s 3ms/step - loss: 27080.9551 - val_loss: 26928.6680\n",
      "Epoch 6/50\n",
      "36/36 [==============================] - 0s 3ms/step - loss: 27075.7949 - val_loss: 26924.4199\n",
      "Epoch 7/50\n",
      "36/36 [==============================] - 0s 3ms/step - loss: 27071.8613 - val_loss: 26921.1816\n",
      "Epoch 8/50\n",
      "36/36 [==============================] - 0s 3ms/step - loss: 27068.7559 - val_loss: 26918.6328\n",
      "Epoch 9/50\n",
      "36/36 [==============================] - 0s 3ms/step - loss: 27066.2871 - val_loss: 26916.7207\n",
      "Epoch 10/50\n",
      "36/36 [==============================] - 0s 3ms/step - loss: 27064.1172 - val_loss: 26914.9727\n",
      "Epoch 11/50\n",
      "36/36 [==============================] - 0s 3ms/step - loss: 27062.0820 - val_loss: 26912.8301\n",
      "Epoch 12/50\n",
      "36/36 [==============================] - 0s 4ms/step - loss: 27060.0527 - val_loss: 26910.9277\n",
      "Epoch 13/50\n",
      "36/36 [==============================] - 0s 3ms/step - loss: 27058.2090 - val_loss: 26909.3301\n",
      "Epoch 14/50\n",
      "36/36 [==============================] - 0s 3ms/step - loss: 27056.7832 - val_loss: 26907.8535\n",
      "Epoch 15/50\n",
      "36/36 [==============================] - 0s 3ms/step - loss: 27055.4102 - val_loss: 26906.9512\n",
      "Epoch 16/50\n",
      "36/36 [==============================] - 0s 3ms/step - loss: 27054.3359 - val_loss: 26905.8496\n",
      "Epoch 17/50\n",
      "36/36 [==============================] - 0s 3ms/step - loss: 27053.3340 - val_loss: 26904.9434\n",
      "Epoch 18/50\n",
      "36/36 [==============================] - 0s 3ms/step - loss: 27052.3086 - val_loss: 26904.4688\n",
      "Epoch 19/50\n",
      "36/36 [==============================] - 0s 3ms/step - loss: 27051.4395 - val_loss: 26903.6133\n",
      "Epoch 20/50\n",
      "36/36 [==============================] - 0s 3ms/step - loss: 27050.5566 - val_loss: 26902.4805\n",
      "Epoch 21/50\n",
      "36/36 [==============================] - 0s 3ms/step - loss: 27049.6816 - val_loss: 26901.7422\n",
      "Epoch 22/50\n",
      "36/36 [==============================] - 0s 3ms/step - loss: 27048.7520 - val_loss: 26900.8203\n",
      "Epoch 23/50\n",
      "36/36 [==============================] - 0s 3ms/step - loss: 27047.8730 - val_loss: 26900.2051\n",
      "Epoch 24/50\n",
      "36/36 [==============================] - 0s 3ms/step - loss: 27047.0566 - val_loss: 26899.5117\n",
      "Epoch 25/50\n",
      "36/36 [==============================] - 0s 4ms/step - loss: 27046.1777 - val_loss: 26898.8047\n",
      "Epoch 26/50\n",
      "36/36 [==============================] - 0s 3ms/step - loss: 27045.3535 - val_loss: 26898.0918\n",
      "Epoch 27/50\n",
      "36/36 [==============================] - 0s 3ms/step - loss: 27044.9121 - val_loss: 26897.5723\n",
      "Epoch 28/50\n",
      "36/36 [==============================] - 0s 3ms/step - loss: 27044.4648 - val_loss: 26897.1230\n",
      "Epoch 29/50\n",
      "36/36 [==============================] - 0s 3ms/step - loss: 27043.8984 - val_loss: 26896.5801\n",
      "Epoch 30/50\n",
      "36/36 [==============================] - 0s 3ms/step - loss: 27043.2578 - val_loss: 26895.9824\n",
      "Epoch 31/50\n",
      "36/36 [==============================] - 0s 3ms/step - loss: 27042.7793 - val_loss: 26895.3008\n",
      "Epoch 32/50\n",
      "36/36 [==============================] - 0s 3ms/step - loss: 27042.3867 - val_loss: 26894.9727\n",
      "Epoch 33/50\n",
      "36/36 [==============================] - 0s 3ms/step - loss: 27041.9922 - val_loss: 26894.8730\n",
      "Epoch 34/50\n",
      "36/36 [==============================] - 0s 3ms/step - loss: 27041.6621 - val_loss: 26894.2832\n",
      "Epoch 35/50\n",
      "36/36 [==============================] - 0s 3ms/step - loss: 27041.3477 - val_loss: 26894.0957\n",
      "Epoch 36/50\n",
      "36/36 [==============================] - 0s 3ms/step - loss: 27040.9121 - val_loss: 26893.8027\n",
      "Epoch 37/50\n",
      "36/36 [==============================] - 0s 3ms/step - loss: 27040.5645 - val_loss: 26893.6289\n",
      "Epoch 38/50\n",
      "36/36 [==============================] - 0s 3ms/step - loss: 27040.4648 - val_loss: 26893.1719\n",
      "Epoch 39/50\n",
      "36/36 [==============================] - 0s 3ms/step - loss: 27040.1191 - val_loss: 26893.1992\n",
      "Epoch 40/50\n",
      "36/36 [==============================] - 0s 3ms/step - loss: 27039.8125 - val_loss: 26892.7480\n",
      "Epoch 41/50\n",
      "36/36 [==============================] - 0s 3ms/step - loss: 27039.6680 - val_loss: 26892.8789\n",
      "Epoch 42/50\n",
      "36/36 [==============================] - 0s 3ms/step - loss: 27039.2227 - val_loss: 26892.5801\n",
      "Epoch 43/50\n",
      "36/36 [==============================] - 0s 3ms/step - loss: 27039.1348 - val_loss: 26892.3867\n",
      "Epoch 44/50\n",
      "36/36 [==============================] - 0s 3ms/step - loss: 27038.8809 - val_loss: 26892.2285\n",
      "Epoch 45/50\n",
      "36/36 [==============================] - 0s 3ms/step - loss: 27038.6582 - val_loss: 26892.1680\n",
      "Epoch 46/50\n",
      "36/36 [==============================] - 0s 3ms/step - loss: 27038.4199 - val_loss: 26891.8789\n",
      "Epoch 47/50\n",
      "36/36 [==============================] - 0s 3ms/step - loss: 27038.2344 - val_loss: 26891.9414\n",
      "Epoch 48/50\n",
      "36/36 [==============================] - 0s 3ms/step - loss: 27037.8320 - val_loss: 26891.5020\n",
      "Epoch 49/50\n",
      "36/36 [==============================] - 0s 3ms/step - loss: 27037.7422 - val_loss: 26891.4297\n",
      "Epoch 50/50\n",
      "36/36 [==============================] - 0s 4ms/step - loss: 27037.6777 - val_loss: 26891.1094\n",
      "360/360 [==============================] - 0s 676us/step\n"
     ]
    }
   ],
   "source": [
    "# reduce to 25 features\n",
    "encoding_dim = 25\n",
    "\n",
    "# feature count\n",
    "input_dim = X_train.shape[1]\n",
    "\n",
    "input_layer = Input(shape=(input_dim, ))\n",
    "\n",
    "# encoder Layers\n",
    "encoder_layer1 = Dense(100, activation=\"tanh\")(input_layer)\n",
    "encoder_layer2 = Dense(50, activation=\"tanh\")(encoder_layer1)\n",
    "encoder_layer3 = Dense(encoding_dim, activation=\"tanh\")(encoder_layer2)\n",
    "\n",
    "# decoder Layers\n",
    "decoder_layer1 = Dense(50, activation=\"tanh\")(encoder_layer3)\n",
    "decoder_layer2 = Dense(100, activation=\"tanh\")(decoder_layer1)\n",
    "decoder_layer3 = Dense(input_dim, activation=\"tanh\")(decoder_layer2)\n",
    "\n",
    "# combine layers\n",
    "autoencoder = Model(inputs=input_layer, outputs=decoder_layer3)\n",
    "\n",
    "# compile model\n",
    "autoencoder.compile(optimizer=\"adam\", loss=\"mse\")\n",
    "\n",
    "# fit the model\n",
    "autoencoder.fit(X_train, X_train, epochs=50, batch_size=256, shuffle=True, validation_split=0.2)\n",
    "\n",
    "# reduce dimension to 10\n",
    "encoder = Model(inputs=input_layer, outputs=encoder_layer3)\n",
    "X_encoded = encoder.predict(X_normal)"
   ]
  },
  {
   "cell_type": "code",
   "execution_count": 56,
   "metadata": {},
   "outputs": [
    {
     "name": "stderr",
     "output_type": "stream",
     "text": [
      "c:\\Users\\User\\AppData\\Local\\Programs\\Python\\Python310\\lib\\site-packages\\sklearn\\cluster\\_kmeans.py:870: FutureWarning: The default value of `n_init` will change from 10 to 'auto' in 1.4. Set the value of `n_init` explicitly to suppress the warning\n",
      "  warnings.warn(\n"
     ]
    }
   ],
   "source": [
    "clustering = KMeans(n_clusters=115, random_state=0)\n",
    "clusters = clustering.fit_predict(X_encoded)\n",
    "\n",
    "clusters = pd.DataFrame(clusters)\n",
    "\n",
    "clusters.to_csv('output.dat', index=False, header=False)"
   ]
  }
 ],
 "metadata": {
  "kernelspec": {
   "display_name": "Python 3",
   "language": "python",
   "name": "python3"
  },
  "language_info": {
   "codemirror_mode": {
    "name": "ipython",
    "version": 3
   },
   "file_extension": ".py",
   "mimetype": "text/x-python",
   "name": "python",
   "nbconvert_exporter": "python",
   "pygments_lexer": "ipython3",
   "version": "3.10.1"
  },
  "orig_nbformat": 4
 },
 "nbformat": 4,
 "nbformat_minor": 2
}
